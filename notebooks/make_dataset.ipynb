{
  "nbformat": 4,
  "nbformat_minor": 0,
  "metadata": {
    "colab": {
      "provenance": []
    },
    "kernelspec": {
      "name": "python3",
      "display_name": "Python 3"
    },
    "language_info": {
      "name": "python"
    }
  },
  "cells": [
    {
      "cell_type": "code",
      "execution_count": null,
      "metadata": {
        "colab": {
          "base_uri": "https://localhost:8080/"
        },
        "id": "1zV_EYuCkgk-",
        "outputId": "e0cc1560-57a4-473c-809c-60174060ce93"
      },
      "outputs": [
        {
          "output_type": "stream",
          "name": "stdout",
          "text": [
            "Mounted at /content/driver/\n"
          ]
        }
      ],
      "source": [
        "from google.colab import drive\n",
        "drive.mount('/content/driver/')\n"
      ]
    },
    {
      "cell_type": "code",
      "source": [
        "import pandas as pd\n",
        "import os\n",
        "import matplotlib.pyplot as plt\n",
        "import numpy as np\n",
        "import shutil\n",
        "import glob\n",
        "from keras.preprocessing.image import array_to_img, img_to_array, load_img"
      ],
      "metadata": {
        "id": "3tir4vFjlDAf"
      },
      "execution_count": null,
      "outputs": []
    },
    {
      "cell_type": "code",
      "source": [
        "df = pd.read_csv('/content/driver/MyDrive/Spot the Mask Challenge/images/train_labels.csv')"
      ],
      "metadata": {
        "id": "vledRuw0lZY_"
      },
      "execution_count": null,
      "outputs": []
    },
    {
      "cell_type": "code",
      "source": [
        "source_directory = \"/content/driver/MyDrive/Spot the Mask Challenge/images/images\"\n",
        "\n",
        "main_directory = \"/content/driver/MyDrive/Spot the Mask Challenge/images/\"\n",
        "train_directory = os.path.join(main_directory, \"train/\")"
      ],
      "metadata": {
        "id": "HXhUHQE6lcrk"
      },
      "execution_count": null,
      "outputs": []
    },
    {
      "cell_type": "code",
      "source": [
        "trainList = df.values()"
      ],
      "metadata": {
        "id": "jmjvn5pZmA5a"
      },
      "execution_count": null,
      "outputs": []
    },
    {
      "cell_type": "code",
      "source": [
        "def move_images(df, source_directory, destination_directory):\n",
        "  for index, row in df.iterrows():\n",
        "    image = row['image']\n",
        "    target = row['target']\n",
        "\n",
        "    source_path = os.path.join(source_directory, image)\n",
        "    destination_path = os.path.join(destination_directory, str(target))\n",
        "\n",
        "    if os.path.isfile(source_path):\n",
        "            # Create the destination directory if it doesn't exist\n",
        "            os.makedirs(destination_path, exist_ok=True)\n",
        "\n",
        "            # Move the image to the destination directory\n",
        "            shutil.move(source_path, os.path.join(destination_path, image))\n",
        "    else:\n",
        "            print(f\"Warning: Image {image} not found in {source_directory}\")\n",
        "\n"
      ],
      "metadata": {
        "id": "vgRKVtxmmAVM"
      },
      "execution_count": null,
      "outputs": []
    },
    {
      "cell_type": "code",
      "source": [
        "move_images(df,source_directory, train_directory )"
      ],
      "metadata": {
        "id": "j8YCA05Zm4JI"
      },
      "execution_count": null,
      "outputs": []
    }
  ]
}