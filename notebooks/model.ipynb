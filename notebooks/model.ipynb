{
  "cells": [
    {
      "cell_type": "markdown",
      "source": [
        "**1. Introduction**\n",
        "\n",
        "This notebook demonstrates a binary classification project for detecting whether a person is wearing a mask or not. The project utilizes the EfficientNetB0 model for image recognition and integrates various data augmentation techniques to improve the model's generalizability.\n",
        "\n",
        "**Objectives:**\n",
        "\n",
        "Develop a high-performance model for accurate mask detection.\n",
        "Visualize the model's training and validation loss and accuracy to assess its learning progress.\n",
        "Generate a confusion matrix to analyze the model's performance on different classes.\n",
        "Optimize the model for efficient training and resource utilization.\n",
        "Data Source:\n",
        "\n",
        "The project utilizes the Spot the Mask Challenge dataset, which contains images of individuals with and without masks. The dataset is split into training, validation, and test sets for training and evaluating the model.\n",
        "\n",
        "**Methodology:**\n",
        "\n",
        "EfficientNetB0 is employed as the base model for feature extraction due to its pre-trained weights and efficient architecture.\n",
        "Global Average Pooling is applied to extract features from the model's output.\n",
        "Dropout is added to prevent overfitting and improve the model's generalizability.\n",
        "Binary cross-entropy is chosen as the loss function for optimizing the model for binary classification.\n",
        "Adam optimizer is used with amsgrad to efficiently update the model's weights during training.\n",
        "Early stopping, ReduceLROnPlateau, and ModelCheckpoint callbacks are implemented to monitor the training process and prevent overfitting.\n",
        "ImageDataGenerator with various augmentation techniques is utilized to artificially expand the training data and improve the model's robustness.\n",
        "Confusion matrix is generated to analyze the model's performance on correctly and incorrectly classified instances for each class.\n",
        "\n",
        "**Expected Results:**\n",
        "\n",
        "The trained model is expected to achieve high accuracy in detecting mask-wearing individuals.\n",
        "The visualization of training and validation metrics will provide insights into the model's learning process.\n",
        "The confusion matrix will help identify potential biases or imbalances in the model's predictions.\n",
        "\n",
        "**Next Steps:**\n",
        "\n",
        "Further hyperparameter tuning can be performed to optimize the model's performance.\n",
        "Additional data augmentation techniques can be explored to improve the model's robustness and generalizability.\n",
        "The model can be evaluated on a separate test set to assess its accuracy on unseen data.\n",
        "The project can be further extended to include additional functionalities, such as real-time mask detection using webcam or video streams."
      ],
      "metadata": {
        "id": "Bc6gqyD_-YXi"
      }
    },
    {
      "cell_type": "markdown",
      "source": [
        "**Mount Google Drive:**"
      ],
      "metadata": {
        "id": "uLOrSlZj-7mi"
      }
    },
    {
      "cell_type": "code",
      "execution_count": null,
      "metadata": {
        "colab": {
          "base_uri": "https://localhost:8080/"
        },
        "id": "IhUVj4y-YaRm",
        "outputId": "28a5caf0-4c19-4401-e724-d815261d3528"
      },
      "outputs": [
        {
          "output_type": "stream",
          "name": "stdout",
          "text": [
            "Drive already mounted at /content/driver/; to attempt to forcibly remount, call drive.mount(\"/content/driver/\", force_remount=True).\n"
          ]
        }
      ],
      "source": [
        "from google.colab import drive\n",
        "drive.mount('/content/driver/')\n"
      ]
    },
    {
      "cell_type": "code",
      "execution_count": null,
      "metadata": {
        "colab": {
          "base_uri": "https://localhost:8080/"
        },
        "id": "RVE2QgIgZa8F",
        "outputId": "665b725e-b4e2-4c46-bf8d-e065c18db8b2"
      },
      "outputs": [
        {
          "output_type": "stream",
          "name": "stdout",
          "text": [
            "Requirement already satisfied: efficientnet in /usr/local/lib/python3.10/dist-packages (1.1.1)\n",
            "Requirement already satisfied: keras-applications<=1.0.8,>=1.0.7 in /usr/local/lib/python3.10/dist-packages (from efficientnet) (1.0.8)\n",
            "Requirement already satisfied: scikit-image in /usr/local/lib/python3.10/dist-packages (from efficientnet) (0.19.3)\n",
            "Requirement already satisfied: numpy>=1.9.1 in /usr/local/lib/python3.10/dist-packages (from keras-applications<=1.0.8,>=1.0.7->efficientnet) (1.23.5)\n",
            "Requirement already satisfied: h5py in /usr/local/lib/python3.10/dist-packages (from keras-applications<=1.0.8,>=1.0.7->efficientnet) (3.9.0)\n",
            "Requirement already satisfied: scipy>=1.4.1 in /usr/local/lib/python3.10/dist-packages (from scikit-image->efficientnet) (1.11.4)\n",
            "Requirement already satisfied: networkx>=2.2 in /usr/local/lib/python3.10/dist-packages (from scikit-image->efficientnet) (3.2.1)\n",
            "Requirement already satisfied: pillow!=7.1.0,!=7.1.1,!=8.3.0,>=6.1.0 in /usr/local/lib/python3.10/dist-packages (from scikit-image->efficientnet) (9.4.0)\n",
            "Requirement already satisfied: imageio>=2.4.1 in /usr/local/lib/python3.10/dist-packages (from scikit-image->efficientnet) (2.31.6)\n",
            "Requirement already satisfied: tifffile>=2019.7.26 in /usr/local/lib/python3.10/dist-packages (from scikit-image->efficientnet) (2023.9.26)\n",
            "Requirement already satisfied: PyWavelets>=1.1.1 in /usr/local/lib/python3.10/dist-packages (from scikit-image->efficientnet) (1.5.0)\n",
            "Requirement already satisfied: packaging>=20.0 in /usr/local/lib/python3.10/dist-packages (from scikit-image->efficientnet) (23.2)\n"
          ]
        }
      ],
      "source": [
        "!pip install efficientnet"
      ]
    },
    {
      "cell_type": "markdown",
      "source": [
        "**2. Import Libraries:**"
      ],
      "metadata": {
        "id": "qhWkaSOk_Dk0"
      }
    },
    {
      "cell_type": "code",
      "execution_count": null,
      "metadata": {
        "id": "KG6DM32yY7Dg"
      },
      "outputs": [],
      "source": [
        "import pandas as pd\n",
        "import os\n",
        "import matplotlib.pyplot as plt\n",
        "import numpy as np\n",
        "import shutil\n",
        "import glob\n",
        "\n",
        "from keras.preprocessing.image import ImageDataGenerator, array_to_img, img_to_array, load_img\n",
        "from keras.layers import Dropout, Dense,GlobalAveragePooling2D\n",
        "from keras.models import load_model\n",
        "\n",
        "from keras.models import Model\n",
        "from keras.callbacks import EarlyStopping, ReduceLROnPlateau, ModelCheckpoint\n",
        "from sklearn.model_selection import train_test_split\n",
        "import tensorflow as tf\n",
        "\n",
        "import efficientnet.keras as efn\n",
        "from sklearn.metrics import confusion_matrix\n"
      ]
    },
    {
      "cell_type": "markdown",
      "source": [
        "**3. Load Data and Preprocessing:**"
      ],
      "metadata": {
        "id": "lxhq0XN2_JPT"
      }
    },
    {
      "cell_type": "code",
      "execution_count": null,
      "metadata": {
        "id": "d7kQuSGrY8Z5"
      },
      "outputs": [],
      "source": [
        "df = pd.read_csv('/content/driver/MyDrive/Spot the Mask Challenge/images/train_labels.csv')"
      ]
    },
    {
      "cell_type": "code",
      "execution_count": null,
      "metadata": {
        "id": "X1qns-bIZVz0"
      },
      "outputs": [],
      "source": [
        "image_width = 256\n",
        "image_height = 256\n",
        "batch_size = 4\n",
        "epochs = 100\n",
        "dropout = 0.2\n",
        "\n",
        "trainSet_NAME = []\n",
        "trainSet_IMG = []\n",
        "trainSet_LABEL = []"
      ]
    },
    {
      "cell_type": "code",
      "execution_count": null,
      "metadata": {
        "id": "O7h52uacdaZR"
      },
      "outputs": [],
      "source": [
        "source_directory = \"/content/driver/MyDrive/Spot the Mask Challenge/images/images\"\n",
        "\n",
        "main_directory = \"/content/driver/MyDrive/Spot the Mask Challenge/images/\"\n",
        "train_directory = os.path.join(main_directory, \"train/\")"
      ]
    },
    {
      "cell_type": "code",
      "execution_count": null,
      "metadata": {
        "id": "tQkPiUm_orjk"
      },
      "outputs": [],
      "source": [
        "trainList = df.values\n",
        "\n",
        "for x in trainList:\n",
        "    name = glob.glob(str(train_directory)+x[0])\n",
        "    img = img_to_array(load_img(name[0], color_mode='rgb', target_size=[image_width,image_height]))\n",
        "    trainSet_NAME.append(x[0])\n",
        "    trainSet_IMG.append(img)\n",
        "    trainSet_LABEL.append(x[1])"
      ]
    },
    {
      "cell_type": "code",
      "execution_count": null,
      "metadata": {
        "colab": {
          "base_uri": "https://localhost:8080/"
        },
        "id": "jxGAEnYKquUL",
        "outputId": "8326610f-3dc8-41ad-f633-ba158fee32c8"
      },
      "outputs": [
        {
          "output_type": "stream",
          "name": "stdout",
          "text": [
            "Train Data Shape 1308\n"
          ]
        }
      ],
      "source": [
        "print(\"Train Data Shape \"+str(len(trainSet_NAME)))"
      ]
    },
    {
      "cell_type": "code",
      "execution_count": null,
      "metadata": {
        "id": "NwJyI0YGqx23"
      },
      "outputs": [],
      "source": [
        "trainSet_NAME = np.asarray(trainSet_NAME)\n",
        "trainSet_IMG = np.asarray(trainSet_IMG)\n",
        "trainSet_LABEL = np.asarray(trainSet_LABEL)\n",
        "trainSet_IMG = trainSet_IMG/255.0"
      ]
    },
    {
      "cell_type": "code",
      "execution_count": null,
      "metadata": {
        "colab": {
          "base_uri": "https://localhost:8080/"
        },
        "id": "S4WM3fpZrMOO",
        "outputId": "3fcbe27f-658c-4dc7-8a15-1d8e0906f4ca"
      },
      "outputs": [
        {
          "output_type": "stream",
          "name": "stdout",
          "text": [
            "(1046, 256, 256, 3) (1046,)\n",
            "(262, 256, 256, 3) (262,)\n"
          ]
        }
      ],
      "source": [
        "X_train, X_test, y_train, y_test = train_test_split(trainSet_IMG, trainSet_LABEL, test_size=0.20)\n",
        "print(X_train.shape,y_train.shape)\n",
        "print(X_test.shape,y_test.shape)"
      ]
    },
    {
      "cell_type": "markdown",
      "source": [
        "**4. Model Building:**"
      ],
      "metadata": {
        "id": "SVORhxR5_QKE"
      }
    },
    {
      "cell_type": "code",
      "source": [
        "input_shape = (X_train[0].shape)\n",
        "\n",
        "\n",
        "baseModel = efn.EfficientNetB0(weights=\"imagenet\", include_top=False,input_shape=input_shape)\n",
        "\n",
        "x = baseModel.output\n",
        "x = GlobalAveragePooling2D()(x)\n",
        "x = Dropout(dropout)(x)\n",
        "x = Dense(1,activation='sigmoid')(x)\n",
        "model = Model(inputs=baseModel.input, outputs=x)\n",
        "\n"
      ],
      "metadata": {
        "id": "dJH8ieT1oFHN"
      },
      "execution_count": null,
      "outputs": []
    },
    {
      "cell_type": "code",
      "execution_count": null,
      "metadata": {
        "id": "6G9e-U2hrYN-"
      },
      "outputs": [],
      "source": [
        "# Loss Function and its Parameters\n",
        "adam = tf.keras.optimizers.Adam(amsgrad=True)\n",
        "\n",
        "# Compilation of Model\n",
        "model.compile(loss='binary_crossentropy',optimizer=adam,metrics=['accuracy'])\n",
        "\n",
        "# Setting up of Callbacks for the Model\n",
        "callbacks = [\n",
        "    EarlyStopping(patience=15, verbose=1),\n",
        "    ReduceLROnPlateau(factor=0.1, patience=10, min_lr=0.00001, verbose=1),\n",
        "    ModelCheckpoint('./Best.h5', monitor='val_loss', mode = 'min' , verbose=1, save_best_only=True, save_weights_only=False)\n",
        "]"
      ]
    },
    {
      "cell_type": "code",
      "execution_count": null,
      "metadata": {
        "id": "GLcas5g7raKP"
      },
      "outputs": [],
      "source": [
        "aug = ImageDataGenerator(rotation_range=20, zoom_range=0.15,\n",
        "\twidth_shift_range=0.2, height_shift_range=0.2, shear_range=0.15,\n",
        "\tfill_mode=\"nearest\")"
      ]
    },
    {
      "cell_type": "markdown",
      "source": [
        "**5. Model Training:**"
      ],
      "metadata": {
        "id": "PE6Z-qIl_VwW"
      }
    },
    {
      "cell_type": "code",
      "execution_count": null,
      "metadata": {
        "colab": {
          "base_uri": "https://localhost:8080/"
        },
        "id": "6gjSYshcre7B",
        "outputId": "c28048ce-7c8e-4daf-93e0-160d5574a2c5"
      },
      "outputs": [
        {
          "output_type": "stream",
          "name": "stderr",
          "text": [
            "<ipython-input-33-a28e04f08f2d>:1: UserWarning: `Model.fit_generator` is deprecated and will be removed in a future version. Please use `Model.fit`, which supports generators.\n",
            "  results = model.fit_generator(aug.flow(X_train, y_train, batch_size=4),\n"
          ]
        },
        {
          "output_type": "stream",
          "name": "stdout",
          "text": [
            "Epoch 1/70\n",
            "262/262 [==============================] - ETA: 0s - loss: 0.4824 - accuracy: 0.7811\n",
            "Epoch 1: val_loss improved from inf to 0.17012, saving model to ./Best.h5\n"
          ]
        },
        {
          "output_type": "stream",
          "name": "stderr",
          "text": [
            "/usr/local/lib/python3.10/dist-packages/keras/src/engine/training.py:3079: UserWarning: You are saving your model as an HDF5 file via `model.save()`. This file format is considered legacy. We recommend using instead the native Keras format, e.g. `model.save('my_model.keras')`.\n",
            "  saving_api.save_model(\n"
          ]
        },
        {
          "output_type": "stream",
          "name": "stdout",
          "text": [
            "\b\b\b\b\b\b\b\b\b\b\b\b\b\b\b\b\b\b\b\b\b\b\b\b\b\b\b\b\b\b\b\b\b\b\b\b\b\b\b\b\b\b\b\b\b\b\b\b\b\b\b\b\b\b\b\b\b\b\b\b\b\b\b\b\b\b\b\b\b\b\b\b\b\b\b\b\b\b\b\b\b\b\b\b\r262/262 [==============================] - 94s 125ms/step - loss: 0.4824 - accuracy: 0.7811 - val_loss: 0.1701 - val_accuracy: 0.9389 - lr: 0.0010\n",
            "Epoch 2/70\n",
            "262/262 [==============================] - ETA: 0s - loss: 0.2983 - accuracy: 0.8767\n",
            "Epoch 2: val_loss did not improve from 0.17012\n",
            "262/262 [==============================] - 29s 109ms/step - loss: 0.2983 - accuracy: 0.8767 - val_loss: 0.6466 - val_accuracy: 0.7710 - lr: 0.0010\n",
            "Epoch 3/70\n",
            "262/262 [==============================] - ETA: 0s - loss: 0.2548 - accuracy: 0.8929\n",
            "Epoch 3: val_loss did not improve from 0.17012\n",
            "262/262 [==============================] - 27s 101ms/step - loss: 0.2548 - accuracy: 0.8929 - val_loss: 0.5978 - val_accuracy: 0.7176 - lr: 0.0010\n",
            "Epoch 4/70\n",
            "262/262 [==============================] - ETA: 0s - loss: 0.2158 - accuracy: 0.9149\n",
            "Epoch 4: val_loss did not improve from 0.17012\n",
            "262/262 [==============================] - 27s 102ms/step - loss: 0.2158 - accuracy: 0.9149 - val_loss: 0.2940 - val_accuracy: 0.8931 - lr: 0.0010\n",
            "Epoch 5/70\n",
            "262/262 [==============================] - ETA: 0s - loss: 0.1918 - accuracy: 0.9254\n",
            "Epoch 5: val_loss improved from 0.17012 to 0.08461, saving model to ./Best.h5\n",
            "262/262 [==============================] - 29s 110ms/step - loss: 0.1918 - accuracy: 0.9254 - val_loss: 0.0846 - val_accuracy: 0.9733 - lr: 0.0010\n",
            "Epoch 6/70\n",
            "262/262 [==============================] - ETA: 0s - loss: 0.1379 - accuracy: 0.9493\n",
            "Epoch 6: val_loss did not improve from 0.08461\n",
            "262/262 [==============================] - 25s 96ms/step - loss: 0.1379 - accuracy: 0.9493 - val_loss: 0.2733 - val_accuracy: 0.8817 - lr: 0.0010\n",
            "Epoch 7/70\n",
            "262/262 [==============================] - ETA: 0s - loss: 0.1797 - accuracy: 0.9321\n",
            "Epoch 7: val_loss did not improve from 0.08461\n",
            "262/262 [==============================] - 25s 96ms/step - loss: 0.1797 - accuracy: 0.9321 - val_loss: 0.1147 - val_accuracy: 0.9580 - lr: 0.0010\n",
            "Epoch 8/70\n",
            "262/262 [==============================] - ETA: 0s - loss: 0.1136 - accuracy: 0.9618\n",
            "Epoch 8: val_loss did not improve from 0.08461\n",
            "262/262 [==============================] - 28s 107ms/step - loss: 0.1136 - accuracy: 0.9618 - val_loss: 0.1285 - val_accuracy: 0.9504 - lr: 0.0010\n",
            "Epoch 9/70\n",
            "262/262 [==============================] - ETA: 0s - loss: 0.1132 - accuracy: 0.9598\n",
            "Epoch 9: val_loss did not improve from 0.08461\n",
            "262/262 [==============================] - 27s 102ms/step - loss: 0.1132 - accuracy: 0.9598 - val_loss: 0.1468 - val_accuracy: 0.9427 - lr: 0.0010\n",
            "Epoch 10/70\n",
            "262/262 [==============================] - ETA: 0s - loss: 0.1180 - accuracy: 0.9522\n",
            "Epoch 10: val_loss did not improve from 0.08461\n",
            "262/262 [==============================] - 26s 98ms/step - loss: 0.1180 - accuracy: 0.9522 - val_loss: 0.1478 - val_accuracy: 0.9504 - lr: 0.0010\n",
            "Epoch 11/70\n",
            "262/262 [==============================] - ETA: 0s - loss: 0.0984 - accuracy: 0.9685\n",
            "Epoch 11: val_loss did not improve from 0.08461\n",
            "262/262 [==============================] - 31s 119ms/step - loss: 0.0984 - accuracy: 0.9685 - val_loss: 0.1377 - val_accuracy: 0.9695 - lr: 0.0010\n",
            "Epoch 12/70\n",
            "262/262 [==============================] - ETA: 0s - loss: 0.0544 - accuracy: 0.9809\n",
            "Epoch 12: val_loss did not improve from 0.08461\n",
            "262/262 [==============================] - 28s 108ms/step - loss: 0.0544 - accuracy: 0.9809 - val_loss: 0.1969 - val_accuracy: 0.9427 - lr: 0.0010\n",
            "Epoch 13/70\n",
            "262/262 [==============================] - ETA: 0s - loss: 0.0649 - accuracy: 0.9723\n",
            "Epoch 13: val_loss did not improve from 0.08461\n",
            "262/262 [==============================] - 25s 97ms/step - loss: 0.0649 - accuracy: 0.9723 - val_loss: 0.2089 - val_accuracy: 0.9618 - lr: 0.0010\n",
            "Epoch 14/70\n",
            "262/262 [==============================] - ETA: 0s - loss: 0.1193 - accuracy: 0.9598\n",
            "Epoch 14: val_loss did not improve from 0.08461\n",
            "262/262 [==============================] - 26s 99ms/step - loss: 0.1193 - accuracy: 0.9598 - val_loss: 0.1048 - val_accuracy: 0.9733 - lr: 0.0010\n",
            "Epoch 15/70\n",
            "262/262 [==============================] - ETA: 0s - loss: 0.0922 - accuracy: 0.9646\n",
            "Epoch 15: ReduceLROnPlateau reducing learning rate to 0.00010000000474974513.\n",
            "\n",
            "Epoch 15: val_loss did not improve from 0.08461\n",
            "262/262 [==============================] - 29s 109ms/step - loss: 0.0922 - accuracy: 0.9646 - val_loss: 0.1312 - val_accuracy: 0.9542 - lr: 0.0010\n",
            "Epoch 16/70\n",
            "262/262 [==============================] - ETA: 0s - loss: 0.0568 - accuracy: 0.9799\n",
            "Epoch 16: val_loss improved from 0.08461 to 0.08311, saving model to ./Best.h5\n",
            "262/262 [==============================] - 27s 103ms/step - loss: 0.0568 - accuracy: 0.9799 - val_loss: 0.0831 - val_accuracy: 0.9809 - lr: 1.0000e-04\n",
            "Epoch 17/70\n",
            "262/262 [==============================] - ETA: 0s - loss: 0.0409 - accuracy: 0.9876\n",
            "Epoch 17: val_loss did not improve from 0.08311\n",
            "262/262 [==============================] - 26s 99ms/step - loss: 0.0409 - accuracy: 0.9876 - val_loss: 0.0860 - val_accuracy: 0.9771 - lr: 1.0000e-04\n",
            "Epoch 18/70\n",
            "262/262 [==============================] - ETA: 0s - loss: 0.0415 - accuracy: 0.9828\n",
            "Epoch 18: val_loss did not improve from 0.08311\n",
            "262/262 [==============================] - 28s 108ms/step - loss: 0.0415 - accuracy: 0.9828 - val_loss: 0.0844 - val_accuracy: 0.9733 - lr: 1.0000e-04\n",
            "Epoch 19/70\n",
            "262/262 [==============================] - ETA: 0s - loss: 0.0329 - accuracy: 0.9895\n",
            "Epoch 19: val_loss improved from 0.08311 to 0.08306, saving model to ./Best.h5\n",
            "262/262 [==============================] - 27s 104ms/step - loss: 0.0329 - accuracy: 0.9895 - val_loss: 0.0831 - val_accuracy: 0.9733 - lr: 1.0000e-04\n",
            "Epoch 20/70\n",
            "262/262 [==============================] - ETA: 0s - loss: 0.0330 - accuracy: 0.9866\n",
            "Epoch 20: val_loss did not improve from 0.08306\n",
            "262/262 [==============================] - 26s 100ms/step - loss: 0.0330 - accuracy: 0.9866 - val_loss: 0.0871 - val_accuracy: 0.9695 - lr: 1.0000e-04\n",
            "Epoch 21/70\n",
            "262/262 [==============================] - ETA: 0s - loss: 0.0204 - accuracy: 0.9924\n",
            "Epoch 21: val_loss improved from 0.08306 to 0.08038, saving model to ./Best.h5\n",
            "262/262 [==============================] - 32s 123ms/step - loss: 0.0204 - accuracy: 0.9924 - val_loss: 0.0804 - val_accuracy: 0.9733 - lr: 1.0000e-04\n",
            "Epoch 22/70\n",
            "262/262 [==============================] - ETA: 0s - loss: 0.0211 - accuracy: 0.9952\n",
            "Epoch 22: val_loss did not improve from 0.08038\n",
            "262/262 [==============================] - 28s 108ms/step - loss: 0.0211 - accuracy: 0.9952 - val_loss: 0.0862 - val_accuracy: 0.9695 - lr: 1.0000e-04\n",
            "Epoch 23/70\n",
            "262/262 [==============================] - ETA: 0s - loss: 0.0239 - accuracy: 0.9914\n",
            "Epoch 23: val_loss did not improve from 0.08038\n",
            "262/262 [==============================] - 25s 97ms/step - loss: 0.0239 - accuracy: 0.9914 - val_loss: 0.0886 - val_accuracy: 0.9733 - lr: 1.0000e-04\n",
            "Epoch 24/70\n",
            "262/262 [==============================] - ETA: 0s - loss: 0.0215 - accuracy: 0.9914\n",
            "Epoch 24: val_loss did not improve from 0.08038\n",
            "262/262 [==============================] - 28s 108ms/step - loss: 0.0215 - accuracy: 0.9914 - val_loss: 0.0866 - val_accuracy: 0.9695 - lr: 1.0000e-04\n",
            "Epoch 25/70\n",
            "262/262 [==============================] - ETA: 0s - loss: 0.0138 - accuracy: 0.9962\n",
            "Epoch 25: val_loss did not improve from 0.08038\n",
            "262/262 [==============================] - 28s 105ms/step - loss: 0.0138 - accuracy: 0.9962 - val_loss: 0.0887 - val_accuracy: 0.9733 - lr: 1.0000e-04\n",
            "Epoch 26/70\n",
            "262/262 [==============================] - ETA: 0s - loss: 0.0134 - accuracy: 0.9952\n",
            "Epoch 26: val_loss did not improve from 0.08038\n",
            "262/262 [==============================] - 26s 99ms/step - loss: 0.0134 - accuracy: 0.9952 - val_loss: 0.0873 - val_accuracy: 0.9695 - lr: 1.0000e-04\n",
            "Epoch 27/70\n",
            "262/262 [==============================] - ETA: 0s - loss: 0.0162 - accuracy: 0.9952\n",
            "Epoch 27: val_loss did not improve from 0.08038\n",
            "262/262 [==============================] - 28s 108ms/step - loss: 0.0162 - accuracy: 0.9952 - val_loss: 0.0990 - val_accuracy: 0.9733 - lr: 1.0000e-04\n",
            "Epoch 28/70\n",
            "262/262 [==============================] - ETA: 0s - loss: 0.0226 - accuracy: 0.9904\n",
            "Epoch 28: val_loss did not improve from 0.08038\n",
            "262/262 [==============================] - 28s 107ms/step - loss: 0.0226 - accuracy: 0.9904 - val_loss: 0.0982 - val_accuracy: 0.9656 - lr: 1.0000e-04\n",
            "Epoch 29/70\n",
            "262/262 [==============================] - ETA: 0s - loss: 0.0145 - accuracy: 0.9952\n",
            "Epoch 29: val_loss did not improve from 0.08038\n",
            "262/262 [==============================] - 25s 97ms/step - loss: 0.0145 - accuracy: 0.9952 - val_loss: 0.0889 - val_accuracy: 0.9695 - lr: 1.0000e-04\n",
            "Epoch 30/70\n",
            "262/262 [==============================] - ETA: 0s - loss: 0.0112 - accuracy: 0.9971\n",
            "Epoch 30: val_loss did not improve from 0.08038\n",
            "262/262 [==============================] - 28s 105ms/step - loss: 0.0112 - accuracy: 0.9971 - val_loss: 0.0919 - val_accuracy: 0.9656 - lr: 1.0000e-04\n",
            "Epoch 31/70\n",
            "262/262 [==============================] - ETA: 0s - loss: 0.0103 - accuracy: 0.9971\n",
            "Epoch 31: ReduceLROnPlateau reducing learning rate to 1.0000000474974514e-05.\n",
            "\n",
            "Epoch 31: val_loss did not improve from 0.08038\n",
            "262/262 [==============================] - 31s 117ms/step - loss: 0.0103 - accuracy: 0.9971 - val_loss: 0.0900 - val_accuracy: 0.9771 - lr: 1.0000e-04\n",
            "Epoch 32/70\n",
            "262/262 [==============================] - ETA: 0s - loss: 0.0192 - accuracy: 0.9943\n",
            "Epoch 32: val_loss did not improve from 0.08038\n",
            "262/262 [==============================] - 27s 104ms/step - loss: 0.0192 - accuracy: 0.9943 - val_loss: 0.0895 - val_accuracy: 0.9771 - lr: 1.0000e-05\n",
            "Epoch 33/70\n",
            "262/262 [==============================] - ETA: 0s - loss: 0.0118 - accuracy: 0.9952\n",
            "Epoch 33: val_loss did not improve from 0.08038\n",
            "262/262 [==============================] - 28s 108ms/step - loss: 0.0118 - accuracy: 0.9952 - val_loss: 0.0888 - val_accuracy: 0.9771 - lr: 1.0000e-05\n",
            "Epoch 34/70\n",
            "262/262 [==============================] - ETA: 0s - loss: 0.0202 - accuracy: 0.9971\n",
            "Epoch 34: val_loss did not improve from 0.08038\n",
            "262/262 [==============================] - 25s 96ms/step - loss: 0.0202 - accuracy: 0.9971 - val_loss: 0.0884 - val_accuracy: 0.9771 - lr: 1.0000e-05\n",
            "Epoch 35/70\n",
            "262/262 [==============================] - ETA: 0s - loss: 0.0139 - accuracy: 0.9952\n",
            "Epoch 35: val_loss did not improve from 0.08038\n",
            "262/262 [==============================] - 28s 108ms/step - loss: 0.0139 - accuracy: 0.9952 - val_loss: 0.0902 - val_accuracy: 0.9771 - lr: 1.0000e-05\n",
            "Epoch 36/70\n",
            "262/262 [==============================] - ETA: 0s - loss: 0.0159 - accuracy: 0.9943\n",
            "Epoch 36: val_loss did not improve from 0.08038\n",
            "262/262 [==============================] - 28s 107ms/step - loss: 0.0159 - accuracy: 0.9943 - val_loss: 0.0897 - val_accuracy: 0.9695 - lr: 1.0000e-05\n",
            "Epoch 36: early stopping\n"
          ]
        }
      ],
      "source": [
        "results = model.fit_generator(aug.flow(X_train, y_train, batch_size=4),\n",
        "\tvalidation_data=(X_test, y_test), epochs=epochs, callbacks=callbacks)"
      ]
    },
    {
      "cell_type": "markdown",
      "source": [
        "**6. Model Evaluation and Performance Analysis:**"
      ],
      "metadata": {
        "id": "sLkEsHUb_jtf"
      }
    },
    {
      "cell_type": "code",
      "source": [
        "# Load the saved model\n",
        "model = load_model('Best.h5')"
      ],
      "metadata": {
        "id": "yzJ8j5nNA_Ui"
      },
      "execution_count": null,
      "outputs": []
    },
    {
      "cell_type": "code",
      "source": [
        "def confusion_matrix_generator(X, y):\n",
        "  \"\"\"\n",
        "  This function generates and returns a confusion matrix for a given model and data.\n",
        "\n",
        "  Args:\n",
        "    X: The input data for the model.\n",
        "    y: The ground truth labels for the X data.\n",
        "\n",
        "  Returns:\n",
        "    A confusion matrix representing the model's performance.\n",
        "  \"\"\"\n",
        "\n",
        "  # Use the model to predict on the input data\n",
        "  predictions = model.predict_generator(X)\n",
        "\n",
        "  # Convert the predictions to a DataFrame\n",
        "  df_pred = pd.DataFrame(predictions)\n",
        "\n",
        "  # Add a column named \"target\" to the DataFrame\n",
        "  df_pred.columns = [[\"target\"]]\n",
        "\n",
        "  # Round the predicted target values to get 0 or 1 for binary classification\n",
        "  df_pred['target'] = round(df_pred['target'])\n",
        "\n",
        "  # Generate the confusion matrix\n",
        "  confusion_mat = confusion_matrix(y, df_pred['target'])\n",
        "\n",
        "  # Return the confusion matrix\n",
        "  return confusion_mat"
      ],
      "metadata": {
        "id": "Zui8KwdA01uv"
      },
      "execution_count": null,
      "outputs": []
    },
    {
      "cell_type": "code",
      "source": [
        "confusion_matrix_generator(X_test, y_test)"
      ],
      "metadata": {
        "colab": {
          "base_uri": "https://localhost:8080/"
        },
        "id": "7fgDIk9T01qR",
        "outputId": "497ec4d1-fdee-4608-b161-6df33ea0cf9f"
      },
      "execution_count": null,
      "outputs": [
        {
          "output_type": "stream",
          "name": "stderr",
          "text": [
            "<ipython-input-93-125e0e7ff5bf>:14: UserWarning: `Model.predict_generator` is deprecated and will be removed in a future version. Please use `Model.predict`, which supports generators.\n",
            "  predictions = model.predict_generator(X)\n"
          ]
        },
        {
          "output_type": "execute_result",
          "data": {
            "text/plain": [
              "array([[134,   4],\n",
              "       [  3, 121]])"
            ]
          },
          "metadata": {},
          "execution_count": 94
        }
      ]
    },
    {
      "cell_type": "code",
      "source": [
        "confusion_matrix_generator(X_train, y_train)"
      ],
      "metadata": {
        "colab": {
          "base_uri": "https://localhost:8080/"
        },
        "id": "BwG0UBgh01l1",
        "outputId": "d95bb902-3e0a-4c3c-d376-a52aaefb3143"
      },
      "execution_count": null,
      "outputs": [
        {
          "output_type": "stream",
          "name": "stderr",
          "text": [
            "<ipython-input-93-125e0e7ff5bf>:14: UserWarning: `Model.predict_generator` is deprecated and will be removed in a future version. Please use `Model.predict`, which supports generators.\n",
            "  predictions = model.predict_generator(X)\n"
          ]
        },
        {
          "output_type": "execute_result",
          "data": {
            "text/plain": [
              "array([[525,   1],\n",
              "       [  2, 518]])"
            ]
          },
          "metadata": {},
          "execution_count": 95
        }
      ]
    },
    {
      "cell_type": "code",
      "execution_count": null,
      "metadata": {
        "id": "KRR4-iwH-yWO",
        "colab": {
          "base_uri": "https://localhost:8080/",
          "height": 718
        },
        "outputId": "8a6229d5-a6df-45ef-b22a-2e43d4efc4e1"
      },
      "outputs": [
        {
          "output_type": "display_data",
          "data": {
            "text/plain": [
              "<Figure size 800x800 with 1 Axes>"
            ],
            "image/png": "[encoded data removed]"
          },
          "metadata": {}
        }
      ],
      "source": [
        "# Train and Test Accuracy Loss Plots\n",
        "plt.figure(figsize=(8, 8))\n",
        "plt.title(\"Learning curve\")\n",
        "plt.plot(results.history[\"loss\"], label=\"loss\")\n",
        "plt.plot(results.history[\"val_loss\"], label=\"val_loss\")\n",
        "plt.plot( np.argmin(results.history[\"val_loss\"]), np.min(results.history[\"val_loss\"]), marker=\"x\", color=\"r\", label=\"best model\")\n",
        "plt.xlabel(\"Epochs\")\n",
        "plt.ylabel(\"log_loss\")\n",
        "plt.legend();\n",
        "plt.savefig('./train_loss.png')"
      ]
    },
    {
      "cell_type": "code",
      "source": [
        "# Train and Test Accuracy Loss Plots\n",
        "plt.figure(figsize=(8, 8))\n",
        "plt.title(\"Learning curve\")\n",
        "plt.plot(results.history[\"accuracy\"], label=\"accuracy\")\n",
        "plt.plot(results.history[\"val_accuracy\"], label=\"val_accuracy\")\n",
        "plt.plot( np.argmax(results.history[\"val_accuracy\"]), np.max(results.history[\"val_accuracy\"]), marker=\"x\", color=\"r\", label=\"best model\")\n",
        "plt.xlabel(\"Epochs\")\n",
        "plt.ylabel(\"accuracy\")\n",
        "plt.legend();\n",
        "plt.savefig('./train_accuracy.png')"
      ],
      "metadata": {
        "colab": {
          "base_uri": "https://localhost:8080/",
          "height": 718
        },
        "id": "0iGeEB5l0lvb",
        "outputId": "fa73aa82-4518-4259-a2be-3908869ed5ec"
      },
      "execution_count": null,
      "outputs": [
        {
          "output_type": "display_data",
          "data": {
            "text/plain": [
              "<Figure size 800x800 with 1 Axes>"
            ],
            "image/png": "[encoded data removed]"
          },
          "metadata": {}
        }
      ]
    },
    {
      "cell_type": "code",
      "source": [
        "loss, accuracy = model.evaluate(X_test, y_test)\n",
        "\n",
        "# Print the results\n",
        "print(\"Model accuracy:\", accuracy)\n",
        "print(\"Model loss:\", loss)"
      ],
      "metadata": {
        "id": "h2dMtTG9-AN_",
        "colab": {
          "base_uri": "https://localhost:8080/"
        },
        "outputId": "f684d119-c9cc-4209-c147-ab6784eb5d8b"
      },
      "execution_count": null,
      "outputs": [
        {
          "output_type": "stream",
          "name": "stdout",
          "text": [
            "9/9 [==============================] - 4s 71ms/step - loss: 0.0804 - accuracy: 0.9733\n",
            "Model accuracy: 0.9732824563980103\n",
            "Model loss: 0.08038151264190674\n"
          ]
        }
      ]
    },
    {
      "cell_type": "code",
      "source": [
        "loss, accuracy = model.evaluate(X_train, y_train)\n",
        "\n",
        "# Print the results\n",
        "print(\"Model accuracy:\", accuracy)\n",
        "print(\"Model loss:\", loss)"
      ],
      "metadata": {
        "colab": {
          "base_uri": "https://localhost:8080/"
        },
        "id": "hBQ-lnxfBjtL",
        "outputId": "a5156a62-4d46-4f25-f06e-676d3dad45b8"
      },
      "execution_count": null,
      "outputs": [
        {
          "output_type": "stream",
          "name": "stdout",
          "text": [
            "33/33 [==============================] - 3s 79ms/step - loss: 0.0099 - accuracy: 0.9971\n",
            "Model accuracy: 0.9971319437026978\n",
            "Model loss: 0.009929734282195568\n"
          ]
        }
      ]
    },
    {
      "cell_type": "markdown",
      "source": [
        "**7. Conclusion:**\n",
        "\n",
        "The trained mask detection model achieved promising results on both the test and training datasets:\n",
        "\n",
        "Test set:\n",
        "\n",
        "\n",
        "\n",
        "> Accuracy: 97.3%\n",
        "\n",
        "> Loss: 0.080\n",
        "\n",
        "\n",
        "> Confusion matrix:\n",
        "\n",
        "\n",
        "> Correctly classified 134 mask-wearing individuals and 121 without masks.\n",
        "\n",
        "> Misclassified 4 mask-wearing individuals and 3 without masks.\n",
        "\n",
        "\n",
        "Train set:\n",
        "\n",
        "> Accuracy: 99.7%\n",
        "\n",
        "> Loss: 0.0099\n",
        "\n",
        "\n",
        "> Confusion matrix:\n",
        "\n",
        "\n",
        "> Correctly classified 525 mask-wearing individuals and 518 without masks.\n",
        "\n",
        "> Misclassified 1 mask-wearing individual and 2 without masks.\n",
        "\n",
        "The high accuracy and low loss suggest efficient learning and optimal hyperparameters.\n",
        "\n",
        "Overall, the mask detection model demonstrates promising potential for real-world applications. Further optimization, data augmentation, and continuous monitoring can enhance its robustness and generalizability. This technology can significantly contribute to public health initiatives and safety measures in diverse settings."
      ],
      "metadata": {
        "id": "MyQglUJ-CiIP"
      }
    },
    {
      "cell_type": "code",
      "source": [],
      "metadata": {
        "id": "hUuhvytlBpO3"
      },
      "execution_count": null,
      "outputs": []
    }
  ],
  "metadata": {
    "accelerator": "GPU",
    "colab": {
      "provenance": []
    },
    "kernelspec": {
      "display_name": "Python 3",
      "name": "python3"
    },
    "language_info": {
      "name": "python"
    }
  },
  "nbformat": 4,
  "nbformat_minor": 0
}